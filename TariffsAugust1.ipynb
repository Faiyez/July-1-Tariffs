{
 "cells": [
  {
   "cell_type": "code",
   "execution_count": 16,
   "id": "01a9fe50-9afe-465e-b7fc-4c0079542c9d",
   "metadata": {},
   "outputs": [
    {
     "data": {
      "application/vnd.jupyter.widget-view+json": {
       "model_id": "7e838bcf01e34af7a4075a1111f649e3",
       "version_major": 2,
       "version_minor": 0
      },
      "text/plain": [
       "interactive(children=(Dropdown(description='Month:', options=('April', 'June', 'July'), value='April'), Output…"
      ]
     },
     "metadata": {},
     "output_type": "display_data"
    },
    {
     "data": {
      "text/plain": [
       "<function __main__.plot_tariff_map(month)>"
      ]
     },
     "execution_count": 16,
     "metadata": {},
     "output_type": "execute_result"
    }
   ],
   "source": [
    "import geopandas as gpd\n",
    "import pandas as pd\n",
    "import matplotlib.pyplot as plt\n",
    "import matplotlib.patheffects as path_effects\n",
    "from ipywidgets import interact, Dropdown\n",
    "\n",
    "# Load shapefile\n",
    "world = gpd.read_file(\"ne_110m_admin_0_countries.shp\")\n",
    "\n",
    "# Fix: replace names to match shapefile\n",
    "country_rename = {\n",
    "    \"South Korea\": \"Republic of Korea\",\n",
    "    \"United Kingdom\": \"U.K\",\n",
    "    \"European Union\": \"France\"\n",
    "}\n",
    "\n",
    "# Tariff datasets for April, June, July\n",
    "tariffs_by_month = {\n",
    "    \"April\": {\n",
    "        \"China\": 34,\n",
    "        \"United Kingdom\": 20,\n",
    "        \"Canada\": 10,\n",
    "        \"Mexico\": 10,\n",
    "        \"Japan\": 24,\n",
    "        \"South Korea\": 25,\n",
    "        \"India\": 26,\n",
    "        \"Brazil\": 10,\n",
    "        \"Australia\": 10\n",
    "    },\n",
    "    \"June\": {\n",
    "        \"China\": 34,\n",
    "        \"United Kingdom\": 10,\n",
    "        \"Canada\": 10,\n",
    "        \"Mexico\": 10,\n",
    "        \"Japan\": 10,\n",
    "        \"South Korea\": 10,\n",
    "        \"India\": 10,\n",
    "        \"Brazil\": 10,\n",
    "        \"Australia\": 10\n",
    "    },\n",
    "    \"July\": {\n",
    "        \"China\": 125,\n",
    "        \"United Kingdom\": 10,\n",
    "        \"Canada\": 35,\n",
    "        \"Mexico\": 30,\n",
    "        \"Japan\": 15,\n",
    "        \"South Korea\": 15,\n",
    "        \"India\": 25,\n",
    "        \"Brazil\": 50,\n",
    "        \"Australia\": 10\n",
    "    }\n",
    "}\n",
    "\n",
    "def plot_tariff_map(month):\n",
    "    tariff_data = tariffs_by_month[month]\n",
    "    tariff_df = pd.DataFrame(list(tariff_data.items()), columns=[\"country\", \"tariff\"])\n",
    "    tariff_df[\"country\"] = tariff_df[\"country\"].replace(country_rename)\n",
    "\n",
    "    merged = world.merge(tariff_df, how=\"left\", left_on=\"ADMIN\", right_on=\"country\")\n",
    "    merged[\"ADMIN\"] = merged[\"ADMIN\"].replace({\"United Kingdom\": \"U.K\"})\n",
    "    merged[\"centroid\"] = merged.geometry.centroid\n",
    "\n",
    "    fig, ax = plt.subplots(figsize=(20, 15))\n",
    "\n",
    "    # Plot background\n",
    "    world.dissolve(by=\"CONTINENT\").boundary.plot(ax=ax, color='lightgray', linewidth=1)\n",
    "    merged.plot(ax=ax, column=\"tariff\", cmap=\"Reds\", edgecolor=\"none\",\n",
    "                missing_kwds={\"color\": \"#f7f7f7\"})\n",
    "\n",
    "    for _, row in merged.dropna(subset=[\"tariff\"]).iterrows():\n",
    "        x, y = row[\"centroid\"].x, row[\"centroid\"].y\n",
    "        pin_length = 18\n",
    "        ax.plot([x, x], [y, y + pin_length], color=\"red\", linewidth=2)\n",
    "        ax.plot(x, y + pin_length, marker=\"o\", color=\"darkred\", markersize=8)\n",
    "        ax.text(\n",
    "            x, y + pin_length + 1,\n",
    "            f\"{row['ADMIN']}\\n{int(row['tariff'])}%\",\n",
    "            fontsize=14,\n",
    "            ha='center',\n",
    "            va='bottom',\n",
    "            color='white',\n",
    "            fontweight='bold',\n",
    "            path_effects=[path_effects.withStroke(linewidth=2, foreground=\"black\")],\n",
    "            bbox=dict(boxstyle=\"round,pad=0.5\", facecolor=\"darkred\", edgecolor=\"black\", linewidth=1)\n",
    "        )\n",
    "\n",
    "    ylim = ax.get_ylim()\n",
    "    ax.set_ylim(ylim[0], ylim[1] + 20)\n",
    "\n",
    "    ax.set_title(\n",
    "        f\"U.S. Tariffs ({month} 2025)\",\n",
    "        fontsize=32, fontweight='bold', fontname='Georgia', y=0.95\n",
    "    )\n",
    "    plt.suptitle(\n",
    "        \"Countries Affected by Newly Imposed Tariff Rates\",\n",
    "        fontsize=18, y=0.7, fontname='Georgia'\n",
    "    )\n",
    "    ax.axis(\"off\")\n",
    "    plt.tight_layout(rect=[0, 0, 1, 0.82])\n",
    "    plt.show()\n",
    "\n",
    "# 👇 Interactive dropdown in Jupyter\n",
    "interact(plot_tariff_map, month=Dropdown(options=[\"April\", \"June\", \"July\"], description=\"Month:\"))\n"
   ]
  },
  {
   "cell_type": "code",
   "execution_count": null,
   "id": "184f4323-6dab-4075-8ce0-e49f2ac9d110",
   "metadata": {},
   "outputs": [],
   "source": []
  }
 ],
 "metadata": {
  "kernelspec": {
   "display_name": "Python 3 (ipykernel)",
   "language": "python",
   "name": "python3"
  },
  "language_info": {
   "codemirror_mode": {
    "name": "ipython",
    "version": 3
   },
   "file_extension": ".py",
   "mimetype": "text/x-python",
   "name": "python",
   "nbconvert_exporter": "python",
   "pygments_lexer": "ipython3",
   "version": "3.13.2"
  }
 },
 "nbformat": 4,
 "nbformat_minor": 5
}
